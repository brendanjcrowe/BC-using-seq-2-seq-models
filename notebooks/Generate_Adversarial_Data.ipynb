{
 "cells": [
  {
   "cell_type": "code",
   "execution_count": 1,
   "metadata": {},
   "outputs": [],
   "source": [
    "import torch\n",
    "\n",
    "import torch.nn as nn\n",
    "import torch.nn.functional as F\n",
    "import torch.optim as optim\n",
    "\n",
    "class PolicyLSTM(nn.Module):\n",
    "    \n",
    "    def __init__(self, input_dim, hidden_dim, target_size):\n",
    "        \n",
    "        super(PolicyLSTM, self).__init__()\n",
    "        \n",
    "        self.lstm = nn.LSTM(input_dim, hidden_dim, bias=True, batch_first=True, bidirectional=True)\n",
    "        self.linear = nn.Linear(hidden_dim*2, target_size)\n",
    "        self.output = nn.LogSoftmax(dim=2)\n",
    "        \n",
    "    def forward(self, batch):\n",
    "        \n",
    "        lstm_out, _ = self.lstm(batch)\n",
    "        linear_out = self.linear(lstm_out)\n",
    "        out = self.output(linear_out)\n",
    "        return out\n",
    "    \n",
    "    def predict(self, X):\n",
    "        \n",
    "        with torch.no_grad():\n",
    "            pred = self.forward(X)\n",
    "\n",
    "        return torch.argmax(pred, dim=2).view(-1)"
   ]
  },
  {
   "cell_type": "code",
   "execution_count": 2,
   "metadata": {},
   "outputs": [
    {
     "data": {
      "text/plain": [
       "<All keys matched successfully>"
      ]
     },
     "execution_count": 2,
     "metadata": {},
     "output_type": "execute_result"
    }
   ],
   "source": [
    "import gym\n",
    "import numpy as np\n",
    "import pickle\n",
    "from experts import Expert\n",
    "\n",
    "car = gym.make('MountainCar-v0')\n",
    "cart = gym.make('CartPole-v0')\n",
    "acrobot = gym.make('Acrobot-v1')\n",
    "\n",
    "car_expert = Expert('MountainCar-v0')\n",
    "cart_expert = Expert('CartPole-v0')\n",
    "acrobot_expert = Expert('Acrobot-v1')\n",
    "\n",
    "car_adversary = PolicyLSTM(4, 10, 3)\n",
    "car_adversary.load_state_dict(torch.load('lstm_models/non_adversarial/mountain_car.pt'), strict=False)\n",
    "cart_adversary = PolicyLSTM(6, 15, 3)\n",
    "cart_adversary.load_state_dict(torch.load('lstm_models/non_adversarial/cart_pole.pt'), strict=False)\n",
    "acrobot_adversary = PolicyLSTM(8, 20, 3)\n",
    "acrobot_adversary.load_state_dict(torch.load('lstm_models/non_adversarial/acrobot.pt'), strict=False)\n"
   ]
  },
  {
   "cell_type": "code",
   "execution_count": 11,
   "metadata": {},
   "outputs": [
    {
     "ename": "TypeError",
     "evalue": "int() argument must be a string, a bytes-like object or a number, not 'Discrete'",
     "output_type": "error",
     "traceback": [
      "\u001b[0;31m---------------------------------------------------------------------------\u001b[0m",
      "\u001b[0;31mTypeError\u001b[0m                                 Traceback (most recent call last)",
      "\u001b[0;32m<ipython-input-11-38790381f201>\u001b[0m in \u001b[0;36m<module>\u001b[0;34m\u001b[0m\n\u001b[1;32m      1\u001b[0m \u001b[0;31m# for i in range(20):\u001b[0m\u001b[0;34m\u001b[0m\u001b[0;34m\u001b[0m\u001b[0;34m\u001b[0m\u001b[0m\n\u001b[1;32m      2\u001b[0m \u001b[0;31m#     print(acrobot.action_space.sample())\u001b[0m\u001b[0;34m\u001b[0m\u001b[0;34m\u001b[0m\u001b[0;34m\u001b[0m\u001b[0m\n\u001b[0;32m----> 3\u001b[0;31m \u001b[0mint\u001b[0m\u001b[0;34m(\u001b[0m\u001b[0macrobot\u001b[0m\u001b[0;34m.\u001b[0m\u001b[0maction_space\u001b[0m\u001b[0;34m)\u001b[0m\u001b[0;34m\u001b[0m\u001b[0;34m\u001b[0m\u001b[0m\n\u001b[0m",
      "\u001b[0;31mTypeError\u001b[0m: int() argument must be a string, a bytes-like object or a number, not 'Discrete'"
     ]
    }
   ],
   "source": [
    "\n",
    "# for i in range(20):\n",
    "#     print(acrobot.action_space.sample())\n"
   ]
  },
  {
   "cell_type": "code",
   "execution_count": 13,
   "metadata": {},
   "outputs": [
    {
     "data": {
      "text/plain": [
       "1"
      ]
     },
     "execution_count": 13,
     "metadata": {},
     "output_type": "execute_result"
    }
   ],
   "source": [
    "(0+1)%2"
   ]
  },
  {
   "cell_type": "code",
   "execution_count": 15,
   "metadata": {},
   "outputs": [
    {
     "data": {
      "text/plain": [
       "0"
      ]
     },
     "execution_count": 15,
     "metadata": {},
     "output_type": "execute_result"
    }
   ],
   "source": [
    "car.reset()\n",
    "car.step(0)\n",
    "car.action_space.sample()"
   ]
  },
  {
   "cell_type": "code",
   "execution_count": null,
   "metadata": {},
   "outputs": [],
   "source": []
  }
 ],
 "metadata": {
  "kernelspec": {
   "display_name": "Python 3",
   "language": "python",
   "name": "python3"
  },
  "language_info": {
   "codemirror_mode": {
    "name": "ipython",
    "version": 3
   },
   "file_extension": ".py",
   "mimetype": "text/x-python",
   "name": "python",
   "nbconvert_exporter": "python",
   "pygments_lexer": "ipython3",
   "version": "3.7.6"
  }
 },
 "nbformat": 4,
 "nbformat_minor": 4
}

{
 "cells": [
  {
   "cell_type": "markdown",
   "metadata": {},
   "source": [
    "# Final Results\n",
    "### This notebook is the cumlination of my results"
   ]
  },
  {
   "cell_type": "markdown",
   "metadata": {},
   "source": [
    "## First problem:\n",
    "### Imitation learning with no adversarial data\n",
    "#### Using openai-gym enviroments of classical controll problems\n",
    "#### Enviroments: CartPole-v0, MountainCar-v0, Acrobat-v1"
   ]
  },
  {
   "cell_type": "code",
   "execution_count": 1,
   "metadata": {},
   "outputs": [],
   "source": [
    "import gym\n",
    "import numpy as np\n",
    "import pickle\n",
    "from experts import Expert\n",
    "\n",
    "import warnings\n",
    "warnings.filterwarnings('ignore')\n",
    "\n",
    "car = gym.make('MountainCar-v0')\n",
    "cart = gym.make('CartPole-v0')\n",
    "acrobot = gym.make('Acrobot-v1')\n",
    "\n",
    "car_expert = Expert('MountainCar-v0')\n",
    "cart_expert = Expert('CartPole-v0')\n",
    "acrobot_expert = Expert('Acrobot-v1')"
   ]
  },
  {
   "cell_type": "code",
   "execution_count": 2,
   "metadata": {},
   "outputs": [],
   "source": [
    "import numpy as np\n",
    "import scipy.stats\n",
    "\n",
    "\n",
    "def mean_confidence_interval(data, confidence=0.95):\n",
    "    a = 1.0 * np.array(data)\n",
    "    n = len(a)\n",
    "    m, se = np.mean(a), scipy.stats.sem(a)\n",
    "    h = se * scipy.stats.t.ppf((1 + confidence) / 2., n-1)\n",
    "    return m, h"
   ]
  },
  {
   "cell_type": "code",
   "execution_count": 3,
   "metadata": {},
   "outputs": [],
   "source": [
    "def t_tests(data, equal_var=False):\n",
    "    \n",
    "    for column in data.columns:\n",
    "        if column != 'expert' and column != 'random':\n",
    "            print('T test for epxert vs {}: {}'.format(column, scipy.stats.ttest_ind(a=data[column], b=data['expert'], equal_var=equal_var)))\n",
    "            print('T test for random vs {}: {}'.format(column, scipy.stats.ttest_ind(a=data[column], b=data['random'], equal_var=equal_var)))"
   ]
  },
  {
   "cell_type": "markdown",
   "metadata": {},
   "source": [
    "### Mountain Car"
   ]
  },
  {
   "cell_type": "code",
   "execution_count": 4,
   "metadata": {},
   "outputs": [],
   "source": [
    "import pandas as pd\n",
    "Rewards = pd.DataFrame()\n",
    "ACC = pd.DataFrame()\n",
    "\n",
    "data, rewards, splits = car_expert.generate_data(20)\n",
    "ACC['expert'] = np.array([1 for i in range(20)])\n",
    "Rewards['expert'] = rewards\n",
    "data, rewards, splits = car_expert.generate_data(20, adversary='random')\n",
    "ACC['random'] = np.array([1 for i in range(20)])\n",
    "Rewards['random'] = rewards"
   ]
  },
  {
   "cell_type": "markdown",
   "metadata": {},
   "source": [
    "#### Linear Chain CRF\n",
    "##### Implmented using sklearn-CRFSuite"
   ]
  },
  {
   "cell_type": "code",
   "execution_count": 23,
   "metadata": {},
   "outputs": [],
   "source": [
    "def feats(seq, k):\n",
    "    \n",
    "    return {\n",
    "            'position': np.format_float_positional(seq[k-1][0], 2, unique=False),\n",
    "            'velocity': np.format_float_positional(seq[k-1][1], 3, unique=False),\n",
    "            'position1': np.format_float_positional(seq[k][0], 2, unique=False),\n",
    "            'velocity1': np.format_float_positional(seq[k][1], 3, unique=False),\n",
    "            'first': k == 0,\n",
    "            'last': k == len(seq)-1,\n",
    "            'bias': True\n",
    "    }\n",
    "\n",
    "def labs(seq, k):\n",
    "    \n",
    "    return str(seq[k][2])\n",
    "    \n",
    "def seq_to_feats(seq):\n",
    "    \n",
    "    return [feats(seq, k) for k in range(len(seq))]\n",
    "\n",
    "def seq_to_labs(seq):\n",
    "    \n",
    "    return [labs(seq, k) for k in range(len(seq))]\n",
    "\n",
    "crf = pickle.load(open('crf_models/non_adversarial/mountain_car.pkl', 'rb'))\n",
    "\n",
    "\n",
    "rewards = []\n",
    "\n",
    "for j in range(20):\n",
    "    sequence = np.empty((201, 2))\n",
    "    sequence[0] = car.reset()\n",
    "    i = 0\n",
    "    done = False\n",
    "    score = 0\n",
    "    while not done:\n",
    "        \n",
    "        i += 1\n",
    "        features = seq_to_feats(sequence[0:i])\n",
    "        #print(features)\n",
    "        policy = int(float(crf.predict_single(features)[-1]))\n",
    "        observation, reward, done, info = car.step(policy)\n",
    "        sequence[i] = observation\n",
    "        score += reward\n",
    "#         env.render()\n",
    "#         time.sleep(0.01)\n",
    "       \n",
    "        \n",
    "    \n",
    "    rewards.append(score)\n",
    "    \n",
    "data, rewards, splits = car_expert.generate_data(20)\n",
    "X = [seq_to_feats(seq) for seq in np.split(data, splits)[0:-1]]\n",
    "y = [seq_to_labs(seq) for seq in np.split(data, splits)[0:-1]]\n",
    "preds = crf.predict(X)\n",
    "acc = np.array([np.mean(np.array(pred) == np.array(act)) for pred, act in zip(preds, y)])"
   ]
  },
  {
   "cell_type": "code",
   "execution_count": 26,
   "metadata": {},
   "outputs": [
    {
     "data": {
      "text/plain": [
       "487"
      ]
     },
     "execution_count": 26,
     "metadata": {},
     "output_type": "execute_result"
    }
   ],
   "source": [
    "crf.num_attributes_"
   ]
  },
  {
   "cell_type": "code",
   "execution_count": 6,
   "metadata": {},
   "outputs": [
    {
     "data": {
      "text/plain": [
       "array([-104.,  -89., -104.,  -89., -103., -130., -102., -104., -115.,\n",
       "        -86., -104.,  -89., -133.,  -84., -102.,  -86., -104., -104.,\n",
       "        -99.,  -88.])"
      ]
     },
     "execution_count": 6,
     "metadata": {},
     "output_type": "execute_result"
    }
   ],
   "source": [
    "rewards"
   ]
  },
  {
   "cell_type": "code",
   "execution_count": 7,
   "metadata": {},
   "outputs": [],
   "source": [
    "Rewards['crf'] = rewards\n",
    "ACC['crf'] = acc"
   ]
  },
  {
   "cell_type": "markdown",
   "metadata": {},
   "source": [
    "#### Bi-Directional LSTM\n",
    "##### Implemnted using PyTorch"
   ]
  },
  {
   "cell_type": "code",
   "execution_count": 8,
   "metadata": {},
   "outputs": [],
   "source": [
    "import torch\n",
    "\n",
    "import torch.nn as nn\n",
    "import torch.nn.functional as F\n",
    "import torch.optim as optim\n",
    "\n",
    "class PolicyLSTM(nn.Module):\n",
    "    \n",
    "    def __init__(self, input_dim, hidden_dim, target_size):\n",
    "        \n",
    "        super(PolicyLSTM, self).__init__()\n",
    "        \n",
    "        self.lstm = nn.LSTM(input_dim, hidden_dim, bias=True, batch_first=True, bidirectional=True)\n",
    "        self.linear = nn.Linear(hidden_dim*2, target_size)\n",
    "        self.output = nn.LogSoftmax(dim=2)\n",
    "        \n",
    "    def forward(self, batch):\n",
    "        \n",
    "        lstm_out, _ = self.lstm(batch)\n",
    "        linear_out = self.linear(lstm_out)\n",
    "        out = self.output(linear_out)\n",
    "        return out\n",
    "    \n",
    "    def predict(self, X):\n",
    "        \n",
    "        with torch.no_grad():\n",
    "            pred = self.forward(X)\n",
    "\n",
    "        return torch.argmax(pred, dim=2).view(-1)\n",
    "\n",
    "lstm = PolicyLSTM(4, 10, 3)"
   ]
  },
  {
   "cell_type": "code",
   "execution_count": 18,
   "metadata": {},
   "outputs": [
    {
     "data": {
      "text/plain": [
       "(1343, 500000.0)"
      ]
     },
     "execution_count": 18,
     "metadata": {},
     "output_type": "execute_result"
    }
   ],
   "source": [
    "lstm.load_state_dict(torch.load('lstm_models/non_adversarial/mountain_car.pt'), strict=False)\n",
    "x = 0\n",
    "for param in lstm.parameters():\n",
    "    x += np.product([p for p in param.shape])\n",
    "    \n",
    "x, 100**2 *100 / 2"
   ]
  },
  {
   "cell_type": "code",
   "execution_count": 10,
   "metadata": {},
   "outputs": [],
   "source": [
    "def seq_to_x(seq):\n",
    "    \n",
    "    return torch.tensor([\n",
    "            [seq[i][0], seq[i][1],  int(i==0), 0] \n",
    "            for i in range(len(seq))\n",
    "        ], dtype=torch.float).unsqueeze(0)\n",
    "\n",
    "def seq_to_target(seq):\n",
    "    \n",
    "    return torch.tensor([\n",
    "            seq[i][2] for i in range(len(seq))\n",
    "        ], dtype=torch.long)\n",
    "\n",
    "\n",
    "def test_X(data):\n",
    "    \n",
    "    return [\n",
    "                seq_to_x(seq) for seq in data\n",
    "            ]\n",
    "\n",
    "\n",
    "def test_Y(data):\n",
    "    \n",
    "    return [\n",
    "            seq_to_target(seq) for seq in data\n",
    "        ]\n",
    "\n",
    "rewards = []\n",
    "for i in range(20):\n",
    "\n",
    "    #print(i)\n",
    "    observation = car.reset()\n",
    "    done = False\n",
    "    rd = 0\n",
    "    traj = torch.tensor([[99, 99, 0, 1] for i in range(200)], dtype=torch.float).unsqueeze(0)\n",
    "    while not done:\n",
    "\n",
    "        traj[0][-rd] = torch.tensor([ob for ob in observation] + [int(rd==0)] + [0])\n",
    "        action = lstm.predict(traj)\n",
    "        #print(action, expert.policy(observation), -rd)\n",
    "        observation, reward, done, _ = car.step(int(action[-rd].item()))\n",
    "        rd += int(reward)\n",
    "\n",
    "    rewards.append(rd)\n",
    "\n",
    "data, rewards, splits = car_expert.generate_data(20)\n",
    "X = test_X(np.split(data, splits)[0:-1])\n",
    "y = test_Y(np.split(data, splits)[0:-1])\n",
    "preds = [lstm.predict(x) for x in X]\n",
    "acc = np.array([np.mean(np.array(pred) == np.array(act)) for pred, act in zip(preds, y)])"
   ]
  },
  {
   "cell_type": "code",
   "execution_count": 11,
   "metadata": {},
   "outputs": [],
   "source": [
    "Rewards['lstm'] = rewards\n",
    "ACC['lstm'] = acc"
   ]
  },
  {
   "cell_type": "markdown",
   "metadata": {},
   "source": [
    "#### GAIL"
   ]
  },
  {
   "cell_type": "code",
   "execution_count": 12,
   "metadata": {},
   "outputs": [],
   "source": [
    "import pickle\n",
    "\n",
    "\n",
    "gail_acc_20 = pickle.load(open('gail_mountain_car_acc_20.pkl', 'rb'))\n",
    "gail_rewards_20 = pickle.load(open('gail_mountain_car_rewards_20.pkl', 'rb'))\n",
    "\n",
    "Rewards['gail'] = gail_rewards_20\n",
    "ACC['gail'] = gail_acc_20"
   ]
  },
  {
   "cell_type": "code",
   "execution_count": 13,
   "metadata": {},
   "outputs": [
    {
     "name": "stderr",
     "output_type": "stream",
     "text": [
      "\n",
      "Bad key \"text.kerning_factor\" on line 4 in\n",
      "/home/brendanjcrowe/anaconda3/envs/seq/lib/python3.7/site-packages/matplotlib/mpl-data/stylelib/_classic_test_patch.mplstyle.\n",
      "You probably need to get an updated matplotlibrc file from\n",
      "http://github.com/matplotlib/matplotlib/blob/master/matplotlibrc.template\n",
      "or from the matplotlib source distribution\n"
     ]
    },
    {
     "data": {
      "text/plain": [
       "<matplotlib.axes._subplots.AxesSubplot at 0x7fe500865690>"
      ]
     },
     "execution_count": 13,
     "metadata": {},
     "output_type": "execute_result"
    },
    {
     "data": {
      "image/png": "[encoded data removed]",
      "text/plain": [
       "<Figure size 864x360 with 2 Axes>"
      ]
     },
     "metadata": {
      "needs_background": "light"
     },
     "output_type": "display_data"
    }
   ],
   "source": [
    "import seaborn as sns\n",
    "import matplotlib.pyplot as plt\n",
    "\n",
    "fig, ax = plt.subplots(1,2, figsize=(12, 5))\n",
    "sns.barplot(data=Rewards, ax=ax[0])\n",
    "sns.barplot(data=ACC, ax=ax[1])"
   ]
  },
  {
   "cell_type": "code",
   "execution_count": 14,
   "metadata": {},
   "outputs": [
    {
     "name": "stdout",
     "output_type": "stream",
     "text": [
      "Confidence Interval for the mean accuracy of expert: (1.0, 0.0)\n",
      "Confidence Interval for the mean reward of expert: (-99.0, 5.918018330600604)\n",
      "Confidence Interval for the mean accuracy of random: (1.0, 0.0)\n",
      "Confidence Interval for the mean reward of random: (-200.0, 0.0)\n",
      "Confidence Interval for the mean accuracy of crf: (0.9743920230920015, 0.013448717854859262)\n",
      "Confidence Interval for the mean reward of crf: (-108.5, 6.469869870337028)\n",
      "Confidence Interval for the mean accuracy of lstm: (0.9779365079365079, 0.02526377013663165)\n",
      "Confidence Interval for the mean reward of lstm: (-106.7, 7.781315937630421)\n",
      "Confidence Interval for the mean accuracy of gail: (0.9946173615077099, 0.004624463584423555)\n",
      "Confidence Interval for the mean reward of gail: (-105.25, 7.72746098065284)\n"
     ]
    }
   ],
   "source": [
    "result = pd.DataFrame()\n",
    "for column in ACC.columns:\n",
    "    print('Confidence Interval for the mean accuracy of {}: {}'.format(column, mean_confidence_interval(ACC[column].to_numpy())))\n",
    "    print('Confidence Interval for the mean reward of {}: {}'.format(column, mean_confidence_interval(Rewards[column].to_numpy())))"
   ]
  },
  {
   "cell_type": "code",
   "execution_count": 15,
   "metadata": {},
   "outputs": [
    {
     "name": "stdout",
     "output_type": "stream",
     "text": [
      "T test for epxert vs crf: Ttest_indResult(statistic=-3.9853696264292084, pvalue=0.0007922310986608718)\n",
      "T test for random vs crf: Ttest_indResult(statistic=-3.9853696264292084, pvalue=0.0007922310986608718)\n",
      "T test for epxert vs lstm: Ttest_indResult(statistic=-1.8278910615235586, pvalue=0.08331323022135807)\n",
      "T test for random vs lstm: Ttest_indResult(statistic=-1.8278910615235586, pvalue=0.08331323022135807)\n",
      "T test for epxert vs gail: Ttest_indResult(statistic=-2.4361726792473863, pvalue=0.024857637286018017)\n",
      "T test for random vs gail: Ttest_indResult(statistic=-2.4361726792473863, pvalue=0.024857637286018017)\n"
     ]
    }
   ],
   "source": [
    "t_tests(ACC)\n"
   ]
  },
  {
   "cell_type": "code",
   "execution_count": 16,
   "metadata": {},
   "outputs": [
    {
     "name": "stdout",
     "output_type": "stream",
     "text": [
      "T test for epxert vs crf: Ttest_indResult(statistic=-2.2676971011248708, pvalue=0.029164656345609993)\n",
      "T test for random vs crf: Ttest_indResult(statistic=29.60054913258709, pvalue=2.3228199855619726e-17)\n",
      "T test for epxert vs lstm: Ttest_indResult(statistic=-1.6485420126318067, pvalue=0.10807246928338751)\n",
      "T test for random vs lstm: Ttest_indResult(statistic=25.09590226659755, pvalue=4.963207618352339e-16)\n",
      "T test for epxert vs gail: Ttest_indResult(statistic=-1.343987882591969, pvalue=0.18745951328430543)\n",
      "T test for random vs gail: Ttest_indResult(statistic=25.66354325847773, pvalue=3.282751855765614e-16)\n"
     ]
    }
   ],
   "source": [
    "t_tests(Rewards)"
   ]
  },
  {
   "cell_type": "markdown",
   "metadata": {},
   "source": [
    "### Cart Pole"
   ]
  },
  {
   "cell_type": "code",
   "execution_count": 17,
   "metadata": {},
   "outputs": [],
   "source": [
    "Rewards = pd.DataFrame()\n",
    "ACC = pd.DataFrame()\n",
    "\n",
    "data, rewards, splits = cart_expert.generate_data(20)\n",
    "ACC['expert'] = np.array([1 for i in range(20)])\n",
    "Rewards['expert'] = rewards\n",
    "data, rewards, splits = cart_expert.generate_data(20, adversary='random')\n",
    "ACC['random'] = np.array([1 for i in range(20)])\n",
    "Rewards['random'] = rewards"
   ]
  },
  {
   "cell_type": "markdown",
   "metadata": {},
   "source": [
    "#### CRF"
   ]
  },
  {
   "cell_type": "code",
   "execution_count": 18,
   "metadata": {},
   "outputs": [],
   "source": [
    "def feats(seq, k):\n",
    "    \n",
    "    return {\n",
    "            'f11': np.format_float_positional(seq[k-1][0], 1, unique=False),\n",
    "            'f12': np.format_float_positional(seq[k][0], 1, unique=False),\n",
    "            'f21': np.format_float_positional(seq[k-1][1], 2, unique=False),\n",
    "            'f22': np.format_float_positional(seq[k][1], 2, unique=False),\n",
    "            'f31': np.format_float_positional(seq[k-1][2], 2, unique=False),\n",
    "            'f32': np.format_float_positional(seq[k][2], 2, unique=False),\n",
    "            'f41': np.format_float_positional(seq[k-1][3], 2, unique=False),\n",
    "            'f42': np.format_float_positional(seq[k][3], 2, unique=False),\n",
    "            'first': k == 0,\n",
    "            #'last': k == len(seq)-1\n",
    "            #'bias': True\n",
    "    }\n",
    "\n",
    "def labs(seq, k):\n",
    "    \n",
    "    return str(seq[k][4])\n",
    "    \n",
    "def seq_to_feats(seq):\n",
    "    \n",
    "    return [feats(seq, k) for k in range(len(seq))]\n",
    "\n",
    "def seq_to_labs(seq):\n",
    "    \n",
    "    return [labs(seq, k) for k in range(len(seq))]\n",
    "\n",
    "crf = pickle.load(open('crf_models/non_adversarial/cart_pole.pkl', 'rb'))\n",
    "\n",
    "rewards = []\n",
    "\n",
    "for j in range(20):\n",
    "    sequence = np.empty((201, 4))\n",
    "    sequence[0] = cart.reset()\n",
    "    i = 0\n",
    "    done = False\n",
    "    score = 0\n",
    "    while not done:\n",
    "        \n",
    "        i += 1\n",
    "        features = seq_to_feats(sequence[0:i])\n",
    "        #print(features)\n",
    "        policy = int(float(crf.predict_single(features)[-1]))\n",
    "        observation, reward, done, info = cart.step(policy)\n",
    "        sequence[i] = observation\n",
    "        score += reward\n",
    "#         env.render()\n",
    "#         time.sleep(0.01)\n",
    "       \n",
    "        \n",
    "    \n",
    "    rewards.append(score)\n",
    "    \n",
    "data, rewards, splits = cart_expert.generate_data(20)\n",
    "X = [seq_to_feats(seq) for seq in np.split(data, splits)[0:-1]]\n",
    "y = [seq_to_labs(seq) for seq in np.split(data, splits)[0:-1]]\n",
    "preds = crf.predict(X)\n",
    "acc = np.array([np.mean(np.array(pred) == np.array(act)) for pred, act in zip(preds, y)])"
   ]
  },
  {
   "cell_type": "code",
   "execution_count": 19,
   "metadata": {},
   "outputs": [],
   "source": [
    "Rewards['crf'] = rewards\n",
    "ACC['crf'] = acc"
   ]
  },
  {
   "cell_type": "markdown",
   "metadata": {},
   "source": [
    "#### LSTM"
   ]
  },
  {
   "cell_type": "code",
   "execution_count": 20,
   "metadata": {},
   "outputs": [],
   "source": [
    "lstm = PolicyLSTM(6, 15, 3)\n",
    "lstm.load_state_dict(torch.load('lstm_models/non_adversarial/cart_pole.pt'), strict=False)\n",
    "\n",
    "\n",
    "def seq_to_x(seq):\n",
    "    \n",
    "    return torch.tensor([\n",
    "            [seq[i][0], seq[i][1], seq[i][2], seq[i][3],  int(i==0), 0] \n",
    "            for i in range(len(seq))\n",
    "        ], dtype=torch.float).unsqueeze(0)\n",
    "\n",
    "def seq_to_target(seq):\n",
    "    \n",
    "    return torch.tensor([\n",
    "            seq[i][4] for i in range(len(seq))\n",
    "        ], dtype=torch.long)\n",
    "\n",
    "\n",
    "def test_X(data):\n",
    "    \n",
    "    return [\n",
    "                seq_to_x(seq) for seq in data\n",
    "            ]\n",
    "\n",
    "\n",
    "def test_Y(data):\n",
    "    \n",
    "    return [\n",
    "            seq_to_target(seq) for seq in data\n",
    "        ]\n",
    "\n",
    "\n",
    "rewards = []\n",
    "for i in range(20):\n",
    "\n",
    "    #print(i)\n",
    "    observation = cart.reset()\n",
    "    done = False\n",
    "    rd = 0\n",
    "    traj = torch.tensor([[99, 99, 99, 99, 0, 1] for i in range(200)], dtype=torch.float).unsqueeze(0)\n",
    "    while not done:\n",
    "\n",
    "        traj[0][rd] = torch.tensor([ob for ob in observation] + [int(rd==0)] + [0])\n",
    "        action = lstm.predict(traj)\n",
    "        #print(action, expert.policy(observation), -rd)\n",
    "        observation, reward, done, _ = cart.step(int(action[rd].item()))\n",
    "        rd += int(reward)\n",
    "\n",
    "    rewards.append(rd)\n",
    "\n",
    "\n",
    "data, rewards, splits = cart_expert.generate_data(20)\n",
    "X = test_X(np.split(data, splits)[0:-1])\n",
    "y = test_Y(np.split(data, splits)[0:-1])\n",
    "preds = [lstm.predict(x) for x in X]\n",
    "acc = np.array([np.mean(np.array(pred) == np.array(act)) for pred, act in zip(preds, y)])"
   ]
  },
  {
   "cell_type": "code",
   "execution_count": 21,
   "metadata": {},
   "outputs": [],
   "source": [
    "Rewards['lstm'] = rewards\n",
    "ACC['lstm'] = acc"
   ]
  },
  {
   "cell_type": "markdown",
   "metadata": {},
   "source": [
    "#### GAIL"
   ]
  },
  {
   "cell_type": "code",
   "execution_count": 22,
   "metadata": {},
   "outputs": [],
   "source": [
    "acc = pickle.load(open('gail_cart_pol_acc.pkl', 'rb'))\n",
    "rewards = pickle.load(open('gail_cart_pol_rewards.pkl', 'rb'))\n",
    "\n",
    "Rewards['gail'] = rewards\n",
    "ACC['gail'] = acc"
   ]
  },
  {
   "cell_type": "code",
   "execution_count": 23,
   "metadata": {},
   "outputs": [
    {
     "data": {
      "text/plain": [
       "<matplotlib.axes._subplots.AxesSubplot at 0x7fe4ffdd6d90>"
      ]
     },
     "execution_count": 23,
     "metadata": {},
     "output_type": "execute_result"
    },
    {
     "data": {
      "image/png": "[encoded data removed]",
      "text/plain": [
       "<Figure size 864x360 with 2 Axes>"
      ]
     },
     "metadata": {
      "needs_background": "light"
     },
     "output_type": "display_data"
    }
   ],
   "source": [
    "fig, ax = plt.subplots(1,2, figsize=(12, 5))\n",
    "sns.barplot(data=Rewards, ax=ax[0])\n",
    "sns.barplot(data=ACC, ax=ax[1])"
   ]
  },
  {
   "cell_type": "code",
   "execution_count": 24,
   "metadata": {},
   "outputs": [
    {
     "name": "stdout",
     "output_type": "stream",
     "text": [
      "Confidence Interval for the mean accuracy of expert: (1.0, 0.0)\n",
      "Confidence Interval for the mean reward of expert: (200.0, 0.0)\n",
      "Confidence Interval for the mean accuracy of random: (1.0, 0.0)\n",
      "Confidence Interval for the mean reward of random: (26.45, 5.258877075058519)\n",
      "Confidence Interval for the mean accuracy of crf: (0.99, 0.012498332344661571)\n",
      "Confidence Interval for the mean reward of crf: (200.0, 0.0)\n",
      "Confidence Interval for the mean accuracy of lstm: (0.9992500000000002, 0.0008572796523491898)\n",
      "Confidence Interval for the mean reward of lstm: (200.0, 0.0)\n",
      "Confidence Interval for the mean accuracy of gail: (0.99825, 0.0013739567928923396)\n",
      "Confidence Interval for the mean reward of gail: (200.0, 0.0)\n"
     ]
    }
   ],
   "source": [
    "\n",
    "for column in ACC.columns:\n",
    "    print('Confidence Interval for the mean accuracy of {}: {}'.format(column, mean_confidence_interval(ACC[column].to_numpy())))\n",
    "    print('Confidence Interval for the mean reward of {}: {}'.format(column, mean_confidence_interval(Rewards[column].to_numpy())))"
   ]
  },
  {
   "cell_type": "code",
   "execution_count": 25,
   "metadata": {},
   "outputs": [
    {
     "name": "stdout",
     "output_type": "stream",
     "text": [
      "T test for epxert vs crf: Ttest_indResult(statistic=-1.674642661668587, pvalue=0.11038590879409078)\n",
      "T test for random vs crf: Ttest_indResult(statistic=-1.674642661668587, pvalue=0.11038590879409078)\n",
      "T test for epxert vs lstm: Ttest_indResult(statistic=-1.831103813678747, pvalue=0.08281384258458341)\n",
      "T test for random vs lstm: Ttest_indResult(statistic=-1.831103813678747, pvalue=0.08281384258458341)\n",
      "T test for epxert vs gail: Ttest_indResult(statistic=-2.6658713826829414, pvalue=0.015271361252154836)\n",
      "T test for random vs gail: Ttest_indResult(statistic=-2.6658713826829414, pvalue=0.015271361252154836)\n"
     ]
    }
   ],
   "source": [
    "t_tests(ACC)\n"
   ]
  },
  {
   "cell_type": "code",
   "execution_count": 26,
   "metadata": {},
   "outputs": [
    {
     "name": "stdout",
     "output_type": "stream",
     "text": [
      "T test for epxert vs crf: Ttest_indResult(statistic=nan, pvalue=nan)\n",
      "T test for random vs crf: Ttest_indResult(statistic=69.0726022795488, pvalue=2.7706587418067725e-24)\n",
      "T test for epxert vs lstm: Ttest_indResult(statistic=nan, pvalue=nan)\n",
      "T test for random vs lstm: Ttest_indResult(statistic=69.0726022795488, pvalue=2.7706587418067725e-24)\n",
      "T test for epxert vs gail: Ttest_indResult(statistic=nan, pvalue=nan)\n",
      "T test for random vs gail: Ttest_indResult(statistic=69.0726022795488, pvalue=2.7706587418067725e-24)\n"
     ]
    }
   ],
   "source": [
    "t_tests(Rewards)"
   ]
  },
  {
   "cell_type": "markdown",
   "metadata": {},
   "source": [
    "### Acrobot"
   ]
  },
  {
   "cell_type": "code",
   "execution_count": 27,
   "metadata": {},
   "outputs": [],
   "source": [
    "Rewards = pd.DataFrame()\n",
    "ACC = pd.DataFrame()\n",
    "\n",
    "data, rewards, splits = acrobot_expert.generate_data(20)\n",
    "ACC['expert'] = np.array([1 for i in range(20)])\n",
    "Rewards['expert'] = rewards\n",
    "data, rewards, splits = acrobot_expert.generate_data(20, adversary='random')\n",
    "ACC['random'] = np.array([1 for i in range(20)])\n",
    "Rewards['random'] = rewards"
   ]
  },
  {
   "cell_type": "markdown",
   "metadata": {},
   "source": [
    "#### CRF"
   ]
  },
  {
   "cell_type": "code",
   "execution_count": 27,
   "metadata": {},
   "outputs": [],
   "source": [
    "def feats(seq, k):\n",
    "    \n",
    "    return {\n",
    "            'f11': np.format_float_positional(seq[k-1][0], 2, unique=False),\n",
    "            'f12': np.format_float_positional(seq[k][0], 2, unique=False),\n",
    "            'f21': np.format_float_positional(seq[k-1][1], 2, unique=False),\n",
    "            'f22': np.format_float_positional(seq[k][1], 2, unique=False),\n",
    "            'f31': np.format_float_positional(seq[k-1][2], 2, unique=False),\n",
    "            'f32': np.format_float_positional(seq[k][2], 2, unique=False),\n",
    "            'f41': np.format_float_positional(seq[k-1][3], 2, unique=False),\n",
    "            'f42': np.format_float_positional(seq[k][3], 2, unique=False),\n",
    "            'f51': np.format_float_positional(seq[k-1][4], 1, unique=False),\n",
    "            'f52': np.format_float_positional(seq[k][4], 1, unique=False),\n",
    "            'f61': np.format_float_positional(seq[k-1][5], 1, unique=False),\n",
    "            'f62': np.format_float_positional(seq[k][5], 1, unique=False),\n",
    "            'first': k == 0\n",
    "            #'last': k == len(seq)-1\n",
    "            #'bias': True\n",
    "    }\n",
    "\n",
    "def labs(seq, k):\n",
    "    \n",
    "    return str(seq[k][6])\n",
    "    \n",
    "def seq_to_feats(seq):\n",
    "    \n",
    "    return [feats(seq, k) for k in range(len(seq))]\n",
    "\n",
    "def seq_to_labs(seq):\n",
    "    \n",
    "    return [labs(seq, k) for k in range(len(seq))]\n",
    "\n",
    "\n",
    "\n",
    "\n",
    "crf = pickle.load(open('crf_models/non_adversarial/acrobot.pkl', 'rb'))\n",
    "\n",
    "rewards = []\n",
    "\n",
    "for j in range(20):\n",
    "    sequence = np.empty((500, 6))\n",
    "    sequence[0] = acrobot.reset()\n",
    "    i = 0\n",
    "    done = False\n",
    "    score = 0\n",
    "    while not done:\n",
    "        \n",
    "        i += 1\n",
    "        features = seq_to_feats(sequence[0:i])\n",
    "        #print(features)\n",
    "        policy = int(float(crf.predict_single(features)[-1]))\n",
    "        observation, reward, done, info = acrobot.step(policy)\n",
    "        sequence[i] = observation\n",
    "        score += reward\n",
    "#         env.render()\n",
    "#         time.sleep(0.01)\n",
    "       \n",
    "        \n",
    "    \n",
    "    rewards.append(score)\n",
    "    \n",
    "data, rewards, splits = acrobot_expert.generate_data(20)\n",
    "X = [seq_to_feats(seq) for seq in np.split(data, splits)[0:-1]]\n",
    "y = [seq_to_labs(seq) for seq in np.split(data, splits)[0:-1]]\n",
    "preds = crf.predict(X)\n",
    "acc = np.array([np.mean(np.array(pred) == np.array(act)) for pred, act in zip(preds, y)])"
   ]
  },
  {
   "cell_type": "code",
   "execution_count": 28,
   "metadata": {},
   "outputs": [
    {
     "data": {
      "text/plain": [
       "2687"
      ]
     },
     "execution_count": 28,
     "metadata": {},
     "output_type": "execute_result"
    }
   ],
   "source": [
    "crf.num_attributes_"
   ]
  },
  {
   "cell_type": "code",
   "execution_count": 29,
   "metadata": {},
   "outputs": [],
   "source": [
    "Rewards['crf'] = rewards\n",
    "ACC['crf'] = acc"
   ]
  },
  {
   "cell_type": "markdown",
   "metadata": {},
   "source": [
    "#### LSTM"
   ]
  },
  {
   "cell_type": "code",
   "execution_count": 20,
   "metadata": {},
   "outputs": [],
   "source": [
    "lstm = PolicyLSTM(8, 20, 3)\n",
    "lstm.load_state_dict(torch.load('lstm_models/non_adversarial/acrobot.pt'), strict=False)\n",
    "\n",
    "\n",
    "def seq_to_x(seq):\n",
    "    \n",
    "    return torch.tensor([\n",
    "            [seq[i][0], seq[i][1], seq[i][2], seq[i][3], seq[i][4], seq[i][5],  int(i==0), 0] \n",
    "            for i in range(len(seq))\n",
    "        ], dtype=torch.float).unsqueeze(0)\n",
    "\n",
    "def seq_to_target(seq):\n",
    "    \n",
    "    return torch.tensor([\n",
    "            seq[i][6] for i in range(len(seq))\n",
    "        ], dtype=torch.long)\n",
    "\n",
    "\n",
    "def test_X(data):\n",
    "    \n",
    "    return [\n",
    "                seq_to_x(seq) for seq in data\n",
    "            ]\n",
    "\n",
    "\n",
    "def test_Y(data):\n",
    "    \n",
    "    return [\n",
    "            seq_to_target(seq) for seq in data\n",
    "        ]\n",
    "\n",
    "\n",
    "rewards = []\n",
    "for i in range(20):\n",
    "\n",
    "    #print(i)\n",
    "    observation = acrobot.reset()\n",
    "    #print(observation)\n",
    "    done = False\n",
    "    rd = 0\n",
    "    traj = torch.tensor([[1000, 1000, 1000, 1000, 1000, 1000, 0, 1] for i in range(400)], dtype=torch.float).unsqueeze(0)\n",
    "    while not done:\n",
    "\n",
    "        traj[0][-rd] = torch.tensor([ob for ob in observation] + [int(rd==0)] + [0])\n",
    "        #print(traj.shape)\n",
    "        action = lstm.predict(traj)\n",
    "        #print(action, expert.policy(observation), -rd)\n",
    "        observation, reward, done, _ = acrobot.step(int(action[-rd].item()))\n",
    "        rd += int(reward)\n",
    "\n",
    "    rewards.append(rd)\n",
    "\n",
    "data, rewards, splits = acrobot_expert.generate_data(20)\n",
    "X = test_X(np.split(data, splits)[0:-1])\n",
    "y = test_Y(np.split(data, splits)[0:-1])\n",
    "preds = [lstm.predict(x) for x in X]\n",
    "acc = np.array([np.mean(np.array(pred) == np.array(act)) for pred, act in zip(preds, y)])"
   ]
  },
  {
   "cell_type": "code",
   "execution_count": 21,
   "metadata": {},
   "outputs": [],
   "source": [
    "Rewards['lstm'] = rewards\n",
    "ACC['lstm'] = acc"
   ]
  },
  {
   "cell_type": "code",
   "execution_count": 22,
   "metadata": {},
   "outputs": [
    {
     "data": {
      "text/plain": [
       "4923"
      ]
     },
     "execution_count": 22,
     "metadata": {},
     "output_type": "execute_result"
    }
   ],
   "source": [
    "x = 0\n",
    "for param in lstm.parameters():\n",
    "    x += np.product([p for p in param.shape])\n",
    "    \n",
    "x"
   ]
  },
  {
   "cell_type": "markdown",
   "metadata": {},
   "source": [
    "### GAIL"
   ]
  },
  {
   "cell_type": "code",
   "execution_count": 32,
   "metadata": {},
   "outputs": [],
   "source": [
    "acc = pickle.load(open('gail_acrobot_acc.pkl', 'rb'))\n",
    "rewards = pickle.load(open('gail_acrobot_rewards.pkl', 'rb'))\n",
    "\n",
    "Rewards['gail'] = rewards\n",
    "ACC['gail'] = acc"
   ]
  },
  {
   "cell_type": "code",
   "execution_count": 33,
   "metadata": {},
   "outputs": [
    {
     "data": {
      "text/plain": [
       "<matplotlib.axes._subplots.AxesSubplot at 0x7fe4ffdff610>"
      ]
     },
     "execution_count": 33,
     "metadata": {},
     "output_type": "execute_result"
    },
    {
     "data": {
      "image/png": "[encoded data removed]",
      "text/plain": [
       "<Figure size 864x360 with 2 Axes>"
      ]
     },
     "metadata": {
      "needs_background": "light"
     },
     "output_type": "display_data"
    }
   ],
   "source": [
    "fig, ax = plt.subplots(1,2, figsize=(12, 5))\n",
    "sns.barplot(data=Rewards, ax=ax[0])\n",
    "sns.barplot(data=ACC, ax=ax[1])"
   ]
  },
  {
   "cell_type": "code",
   "execution_count": 34,
   "metadata": {},
   "outputs": [
    {
     "name": "stdout",
     "output_type": "stream",
     "text": [
      "Confidence Interval for the mean accuracy of expert: (1.0, 0.0)\n",
      "Confidence Interval for the mean reward of expert: (-103.1, 27.534834784703165)\n",
      "Confidence Interval for the mean accuracy of random: (1.0, 0.0)\n",
      "Confidence Interval for the mean reward of random: (-500.0, 0.0)\n",
      "Confidence Interval for the mean accuracy of crf: (0.9761890060039515, 0.013257827967811185)\n",
      "Confidence Interval for the mean reward of crf: (-91.95, 16.693494105823888)\n",
      "Confidence Interval for the mean accuracy of lstm: (0.9933389205109396, 0.0036018805237296343)\n",
      "Confidence Interval for the mean reward of lstm: (-85.4, 10.349252355594336)\n",
      "Confidence Interval for the mean accuracy of gail: (0.9957407581456199, 0.0031192022341038164)\n",
      "Confidence Interval for the mean reward of gail: (-96.0, 23.64917326772286)\n"
     ]
    }
   ],
   "source": [
    "\n",
    "for column in ACC.columns:\n",
    "    print('Confidence Interval for the mean accuracy of {}: {}'.format(column, mean_confidence_interval(ACC[column].to_numpy())))\n",
    "    print('Confidence Interval for the mean reward of {}: {}'.format(column, mean_confidence_interval(Rewards[column].to_numpy())))"
   ]
  },
  {
   "cell_type": "code",
   "execution_count": 35,
   "metadata": {},
   "outputs": [
    {
     "name": "stdout",
     "output_type": "stream",
     "text": [
      "T test for epxert vs crf: Ttest_indResult(statistic=-3.7590609347247446, pvalue=0.0013282374726318472)\n",
      "T test for random vs crf: Ttest_indResult(statistic=-3.7590609347247446, pvalue=0.0013282374726318472)\n",
      "T test for epxert vs lstm: Ttest_indResult(statistic=-3.8707001820517193, pvalue=0.0010294415600916266)\n",
      "T test for random vs lstm: Ttest_indResult(statistic=-3.8707001820517193, pvalue=0.0010294415600916266)\n",
      "T test for epxert vs gail: Ttest_indResult(statistic=-2.8580050236214594, pvalue=0.010064361280623881)\n",
      "T test for random vs gail: Ttest_indResult(statistic=-2.8580050236214594, pvalue=0.010064361280623881)\n"
     ]
    }
   ],
   "source": [
    "t_tests(ACC)\n"
   ]
  },
  {
   "cell_type": "code",
   "execution_count": 36,
   "metadata": {},
   "outputs": [
    {
     "name": "stdout",
     "output_type": "stream",
     "text": [
      "T test for epxert vs crf: Ttest_indResult(statistic=0.7247583741068947, pvalue=0.4739829483252812)\n",
      "T test for random vs crf: Ttest_indResult(statistic=51.16115655519564, pvalue=8.067218498969505e-22)\n",
      "T test for epxert vs lstm: Ttest_indResult(statistic=1.2594201021790534, pvalue=0.21985977761635694)\n",
      "T test for random vs lstm: Ttest_indResult(statistic=83.84835378843478, pvalue=7.047088179971143e-26)\n",
      "T test for epxert vs gail: Ttest_indResult(statistic=0.40941656590151454, pvalue=0.6845848543961335)\n",
      "T test for random vs gail: Ttest_indResult(statistic=35.75523374151159, pvalue=6.816924467378739e-19)\n"
     ]
    }
   ],
   "source": [
    "t_tests(Rewards)"
   ]
  },
  {
   "cell_type": "markdown",
   "metadata": {},
   "source": [
    "## Second Problem\n",
    "### Imitation Learning with adversarial data"
   ]
  },
  {
   "cell_type": "markdown",
   "metadata": {},
   "source": [
    "#### Generate adversarial data"
   ]
  },
  {
   "cell_type": "code",
   "execution_count": null,
   "metadata": {},
   "outputs": [],
   "source": [
    "\n"
   ]
  }
 ],
 "metadata": {
  "kernelspec": {
   "display_name": "Python 3",
   "language": "python",
   "name": "python3"
  },
  "language_info": {
   "codemirror_mode": {
    "name": "ipython",
    "version": 3
   },
   "file_extension": ".py",
   "mimetype": "text/x-python",
   "name": "python",
   "nbconvert_exporter": "python",
   "pygments_lexer": "ipython3",
   "version": "3.7.6"
  }
 },
 "nbformat": 4,
 "nbformat_minor": 4
}
